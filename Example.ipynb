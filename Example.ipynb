{
 "cells": [
  {
   "cell_type": "markdown",
   "metadata": {},
   "source": [
    "# PySuggestify\n",
    "\n",
    "## Example of building recommendation system for movies\n",
    "\n",
    "At first, import necessary modules.\n",
    "\n",
    "From PySuggestify we import class PMF, which is simple implementation of Probabilitic Matrix Factorization."
   ]
  },
  {
   "cell_type": "code",
   "execution_count": 1,
   "metadata": {
    "executionInfo": {
     "elapsed": 962,
     "status": "ok",
     "timestamp": 1687523322039,
     "user": {
      "displayName": "Mateusz Soczewka",
      "userId": "14486733780861258567"
     },
     "user_tz": -120
    },
    "id": "-zdrOUQsm-OK"
   },
   "outputs": [],
   "source": [
    "import pandas as pd\n",
    "import numpy as np\n",
    "\n",
    "from pysuggestify.PMF import PMF"
   ]
  },
  {
   "cell_type": "markdown",
   "metadata": {},
   "source": [
    "Let's load the data.\n",
    "\n",
    "The dataframe contains the movie ID, user ID and rating of the movie by the given user on a scale of 1-10."
   ]
  },
  {
   "cell_type": "code",
   "execution_count": 2,
   "metadata": {},
   "outputs": [
    {
     "data": {
      "text/html": [
       "<div>\n",
       "<style scoped>\n",
       "    .dataframe tbody tr th:only-of-type {\n",
       "        vertical-align: middle;\n",
       "    }\n",
       "\n",
       "    .dataframe tbody tr th {\n",
       "        vertical-align: top;\n",
       "    }\n",
       "\n",
       "    .dataframe thead th {\n",
       "        text-align: right;\n",
       "    }\n",
       "</style>\n",
       "<table border=\"1\" class=\"dataframe\">\n",
       "  <thead>\n",
       "    <tr style=\"text-align: right;\">\n",
       "      <th></th>\n",
       "      <th>userId</th>\n",
       "      <th>movieId</th>\n",
       "      <th>rating</th>\n",
       "    </tr>\n",
       "  </thead>\n",
       "  <tbody>\n",
       "    <tr>\n",
       "      <th>0</th>\n",
       "      <td>1</td>\n",
       "      <td>1</td>\n",
       "      <td>8.0</td>\n",
       "    </tr>\n",
       "    <tr>\n",
       "      <th>1</th>\n",
       "      <td>1</td>\n",
       "      <td>3</td>\n",
       "      <td>8.0</td>\n",
       "    </tr>\n",
       "    <tr>\n",
       "      <th>2</th>\n",
       "      <td>1</td>\n",
       "      <td>6</td>\n",
       "      <td>8.0</td>\n",
       "    </tr>\n",
       "    <tr>\n",
       "      <th>3</th>\n",
       "      <td>1</td>\n",
       "      <td>47</td>\n",
       "      <td>10.0</td>\n",
       "    </tr>\n",
       "    <tr>\n",
       "      <th>4</th>\n",
       "      <td>1</td>\n",
       "      <td>50</td>\n",
       "      <td>10.0</td>\n",
       "    </tr>\n",
       "  </tbody>\n",
       "</table>\n",
       "</div>"
      ],
      "text/plain": [
       "   userId  movieId  rating\n",
       "0       1        1     8.0\n",
       "1       1        3     8.0\n",
       "2       1        6     8.0\n",
       "3       1       47    10.0\n",
       "4       1       50    10.0"
      ]
     },
     "execution_count": 2,
     "metadata": {},
     "output_type": "execute_result"
    }
   ],
   "source": [
    "ratings = pd.read_csv('data/ratings.csv')\n",
    "ratings.head()"
   ]
  },
  {
   "cell_type": "markdown",
   "metadata": {},
   "source": [
    "Let's take a look at what our dataframe contains.<br>"
   ]
  },
  {
   "cell_type": "code",
   "execution_count": 3,
   "metadata": {},
   "outputs": [
    {
     "name": "stdout",
     "output_type": "stream",
     "text": [
      " Number of users: 610\n",
      "Number of movies: 9724\n"
     ]
    }
   ],
   "source": [
    "print(' Number of users:', np.unique(ratings['userId']).shape[0])\n",
    "print('Number of movies:', np.unique(ratings['movieId']).shape[0])"
   ]
  },
  {
   "cell_type": "markdown",
   "metadata": {},
   "source": [
    "We have **610 users** who can rate **9724 movies**. Of course, each user only saw some of them.\n",
    "\n",
    "Let's assume that we are the owners of a streaming service and we want to offer our users the most suitable movies. How to do it?\n",
    "\n",
    "We can use popular algorithm named **Probability Matrix Factorization**!\n",
    "\n",
    "If you created a matrix of movie ratings by users, it would be very large and mostly filled with gaps (rather no one is able to watch all movies). In PMF, the idea is to factorize or break down the user-item matrix into two smaller matrices: one for users and another for items. This is like breaking down the big matrix into smaller pieces to extract useful information.<br>\n",
    "By doing this factorization, PMF tries to find hidden or latent space in the data. These latent space capture underlying patterns or characteristics that influence user preferences. For example, in a movie recommendation system, these latent features could represent genres like action, romance, or comedy.\n",
    "\n",
    "Using this algorithm, we can *fill gaps* in our rating matrix and thus find out what is **the expected rating of a given movie is for each user**.\n",
    "\n",
    "Let's see how we can use PySuggestify for that!\n",
    "\n",
    "At first, let's create instance od `PMF` class.<br>\n",
    "We need to set the dimension of latent space and the regularization parameter befor we start training our model.<br>\n",
    "The larger the latent space dimension, the more accurate results can be obtained. We use `n_dims = 40`."
   ]
  },
  {
   "cell_type": "code",
   "execution_count": 4,
   "metadata": {},
   "outputs": [],
   "source": [
    "PMF_model = PMF(n_dims = 40, lambda_U = 0.3, lambda_V = 0.3)"
   ]
  },
  {
   "cell_type": "markdown",
   "metadata": {},
   "source": [
    "If we use the `prepare_data()` method, the data for training the model will be automatically prepared.\n",
    "We only need to provide a dataframe as `ratings` in the example above, and indicate which columns are ID for users and items and which column contains ratings."
   ]
  },
  {
   "cell_type": "code",
   "execution_count": 5,
   "metadata": {},
   "outputs": [
    {
     "name": "stdout",
     "output_type": "stream",
     "text": [
      "Rating matrix prepared!\n",
      "Number of users:  610\n",
      "Number of items:  9724\n"
     ]
    }
   ],
   "source": [
    "PMF_model.prepare_data(ratings, 'userId', 'movieId', 'rating')"
   ]
  },
  {
   "cell_type": "markdown",
   "metadata": {},
   "source": [
    "Once we have the data ready, we can start training the model.\n",
    "\n",
    "The only thig is to specify the number of iterations of the algorithm. The higher the number, the more accurate the results will be, but it will take more time to get them."
   ]
  },
  {
   "cell_type": "code",
   "execution_count": 6,
   "metadata": {},
   "outputs": [
    {
     "name": "stdout",
     "output_type": "stream",
     "text": [
      "Epoch 1/50 \n",
      "  Time: 6.2s, Log p posteriori: -624735.1215, RMSE: 2.8234\n",
      "Epoch 2/50 \n",
      "  Time: 6.3s, Log p posteriori: -141739.1549, RMSE: 1.1257\n",
      "Epoch 3/50 \n",
      "  Time: 6.4s, Log p posteriori: -93051.3433, RMSE: 0.8168\n",
      "Epoch 4/50 \n",
      "  Time: 6.5s, Log p posteriori: -73380.8777, RMSE: 0.6839\n",
      "Epoch 5/50 \n",
      "  Time: 6.5s, Log p posteriori: -62104.7708, RMSE: 0.6062\n",
      "Epoch 6/50 \n",
      "  Time: 6.8s, Log p posteriori: -54637.9614, RMSE: 0.5539\n",
      "Epoch 7/50 \n",
      "  Time: 6.4s, Log p posteriori: -49238.6703, RMSE: 0.5157\n",
      "Epoch 8/50 \n",
      "  Time: 6.4s, Log p posteriori: -45120.9461, RMSE: 0.4864\n",
      "Epoch 9/50 \n",
      "  Time: 6.4s, Log p posteriori: -41886.7305, RMSE: 0.463\n",
      "Epoch 10/50 \n",
      "  Time: 6.5s, Log p posteriori: -39281.0396, RMSE: 0.4438\n",
      "Epoch 11/50 \n",
      "  Time: 6.4s, Log p posteriori: -37123.1818, RMSE: 0.4278\n",
      "Epoch 12/50 \n",
      "  Time: 6.4s, Log p posteriori: -35298.2562, RMSE: 0.4141\n",
      "Epoch 13/50 \n",
      "  Time: 7.5s, Log p posteriori: -33732.5289, RMSE: 0.4025\n",
      "Epoch 14/50 \n",
      "  Time: 7.6s, Log p posteriori: -32372.5318, RMSE: 0.3923\n",
      "Epoch 15/50 \n",
      "  Time: 7.6s, Log p posteriori: -31176.5332, RMSE: 0.3834\n",
      "Epoch 16/50 \n",
      "  Time: 7.6s, Log p posteriori: -30113.1202, RMSE: 0.3756\n",
      "Epoch 17/50 \n",
      "  Time: 7.6s, Log p posteriori: -29159.2776, RMSE: 0.3685\n",
      "Epoch 18/50 \n",
      "  Time: 7.5s, Log p posteriori: -28297.4533, RMSE: 0.3622\n",
      "Epoch 19/50 \n",
      "  Time: 7.6s, Log p posteriori: -27513.2225, RMSE: 0.3564\n",
      "Epoch 20/50 \n",
      "  Time: 7.7s, Log p posteriori: -26794.4888, RMSE: 0.3511\n",
      "Epoch 21/50 \n",
      "  Time: 7.7s, Log p posteriori: -26131.3169, RMSE: 0.3462\n",
      "Epoch 22/50 \n",
      "  Time: 7.6s, Log p posteriori: -25515.7377, RMSE: 0.3417\n",
      "Epoch 23/50 \n",
      "  Time: 7.6s, Log p posteriori: -24941.4293, RMSE: 0.3375\n",
      "Epoch 24/50 \n",
      "  Time: 7.6s, Log p posteriori: -24403.3675, RMSE: 0.3336\n",
      "Epoch 25/50 \n",
      "  Time: 7.5s, Log p posteriori: -23897.5226, RMSE: 0.33\n",
      "Epoch 26/50 \n",
      "  Time: 7.7s, Log p posteriori: -23420.5601, RMSE: 0.3265\n",
      "Epoch 27/50 \n",
      "  Time: 7.6s, Log p posteriori: -22969.5466, RMSE: 0.3233\n",
      "Epoch 28/50 \n",
      "  Time: 7.6s, Log p posteriori: -22541.8788, RMSE: 0.3202\n",
      "Epoch 29/50 \n",
      "  Time: 7.6s, Log p posteriori: -22135.3719, RMSE: 0.3173\n",
      "Epoch 30/50 \n",
      "  Time: 7.7s, Log p posteriori: -21748.2575, RMSE: 0.3146\n",
      "Epoch 31/50 \n",
      "  Time: 7.7s, Log p posteriori: -21379.0883, RMSE: 0.312\n",
      "Epoch 32/50 \n",
      "  Time: 7.6s, Log p posteriori: -21026.6291, RMSE: 0.3095\n",
      "Epoch 33/50 \n",
      "  Time: 7.6s, Log p posteriori: -20689.776, RMSE: 0.3071\n",
      "Epoch 34/50 \n",
      "  Time: 7.6s, Log p posteriori: -20367.5189, RMSE: 0.3048\n",
      "Epoch 35/50 \n",
      "  Time: 7.6s, Log p posteriori: -20058.9304, RMSE: 0.3026\n",
      "Epoch 36/50 \n",
      "  Time: 7.6s, Log p posteriori: -19763.1579, RMSE: 0.3005\n",
      "Epoch 37/50 \n",
      "  Time: 7.6s, Log p posteriori: -19479.4082, RMSE: 0.2984\n",
      "Epoch 38/50 \n",
      "  Time: 7.6s, Log p posteriori: -19206.9318, RMSE: 0.2965\n",
      "Epoch 39/50 \n",
      "  Time: 7.6s, Log p posteriori: -18945.0143, RMSE: 0.2946\n",
      "Epoch 40/50 \n",
      "  Time: 7.6s, Log p posteriori: -18692.9746, RMSE: 0.2928\n",
      "Epoch 41/50 \n",
      "  Time: 7.6s, Log p posteriori: -18450.1693, RMSE: 0.2911\n",
      "Epoch 42/50 \n",
      "  Time: 7.8s, Log p posteriori: -18215.9983, RMSE: 0.2894\n",
      "Epoch 43/50 \n",
      "  Time: 7.7s, Log p posteriori: -17989.9107, RMSE: 0.2878\n",
      "Epoch 44/50 \n",
      "  Time: 7.6s, Log p posteriori: -17771.4079, RMSE: 0.2862\n",
      "Epoch 45/50 \n",
      "  Time: 7.6s, Log p posteriori: -17560.0448, RMSE: 0.2847\n",
      "Epoch 46/50 \n",
      "  Time: 7.6s, Log p posteriori: -17355.4269, RMSE: 0.2833\n",
      "Epoch 47/50 \n",
      "  Time: 7.6s, Log p posteriori: -17157.2056, RMSE: 0.2819\n",
      "Epoch 48/50 \n",
      "  Time: 7.6s, Log p posteriori: -16965.0694, RMSE: 0.2805\n",
      "Epoch 49/50 \n",
      "  Time: 7.5s, Log p posteriori: -16778.7351, RMSE: 0.2792\n",
      "Epoch 50/50 \n",
      "  Time: 8.0s, Log p posteriori: -16597.9387, RMSE: 0.278\n"
     ]
    }
   ],
   "source": [
    "PMF_model.fit(n_epochs=50)"
   ]
  },
  {
   "cell_type": "markdown",
   "metadata": {},
   "source": [
    "The learning process can be verified on charts:"
   ]
  },
  {
   "cell_type": "code",
   "execution_count": 7,
   "metadata": {},
   "outputs": [
    {
     "data": {
      "image/png": "[encoded data removed]",
      "text/plain": [
       "<Figure size 1152x432 with 2 Axes>"
      ]
     },
     "metadata": {
      "needs_background": "light"
     },
     "output_type": "display_data"
    }
   ],
   "source": [
    "PMF_model.plot_history()"
   ]
  },
  {
   "cell_type": "markdown",
   "metadata": {},
   "source": [
    "We can show the predictions.<br>\n",
    "This array contains predicted ratings for each film and each user."
   ]
  },
  {
   "cell_type": "code",
   "execution_count": 8,
   "metadata": {},
   "outputs": [
    {
     "name": "stdout",
     "output_type": "stream",
     "text": [
      "[[7.61285827 9.7008641  8.24477333 ... 1.         1.         1.        ]\n",
      " [7.36409559 6.60971559 8.73170649 ... 1.         1.         1.        ]\n",
      " [3.74121054 1.         1.44741694 ... 1.49265373 1.49265373 1.        ]\n",
      " ...\n",
      " [5.39949936 3.72039516 3.83382713 ... 1.         1.         1.        ]\n",
      " [6.0364435  3.50469717 4.25813621 ... 1.         1.         1.        ]\n",
      " [8.54859188 3.99996115 1.         ... 1.         1.         2.15478004]]\n"
     ]
    }
   ],
   "source": [
    "print(PMF_model.predict())"
   ]
  },
  {
   "cell_type": "markdown",
   "metadata": {},
   "source": [
    "We can also examine the error of our model, i.e. how far from the truth it is."
   ]
  },
  {
   "cell_type": "code",
   "execution_count": 9,
   "metadata": {
    "colab": {
     "base_uri": "https://localhost:8080/"
    },
    "executionInfo": {
     "elapsed": 18671,
     "status": "ok",
     "timestamp": 1687523048468,
     "user": {
      "displayName": "Mateusz Soczewka",
      "userId": "14486733780861258567"
     },
     "user_tz": -120
    },
    "id": "JGK9PnIqElFZ",
    "outputId": "cfbd6fff-0bc3-4520-beb4-750301079466"
   },
   "outputs": [
    {
     "name": "stdout",
     "output_type": "stream",
     "text": [
      "-------------------------\n",
      "RMSE: 0.27797442619788887\n"
     ]
    }
   ],
   "source": [
    "print('-------------------------')\n",
    "print('RMSE:', PMF_model.history['rmse'][-1])"
   ]
  },
  {
   "cell_type": "markdown",
   "metadata": {},
   "source": [
    "We can also get prediction for specific user and specific movie by passing them ID's."
   ]
  },
  {
   "cell_type": "code",
   "execution_count": 10,
   "metadata": {
    "colab": {
     "base_uri": "https://localhost:8080/"
    },
    "executionInfo": {
     "elapsed": 286,
     "status": "ok",
     "timestamp": 1687523084640,
     "user": {
      "displayName": "Mateusz Soczewka",
      "userId": "14486733780861258567"
     },
     "user_tz": -120
    },
    "id": "0f7SZwQHE6V4",
    "outputId": "921d5436-8f62-401b-b345-e198683f244d"
   },
   "outputs": [
    {
     "data": {
      "text/plain": [
       "10"
      ]
     },
     "execution_count": 10,
     "metadata": {},
     "output_type": "execute_result"
    }
   ],
   "source": [
    "round(PMF_model.predict_one(user_id=1, item_id=2))"
   ]
  },
  {
   "cell_type": "markdown",
   "metadata": {},
   "source": [
    "According to our model, user 1 is likely to rate the video with id=2 with a rating of 10.\n",
    "\n",
    "Function below compare true user rating with our predictions:"
   ]
  },
  {
   "cell_type": "code",
   "execution_count": 11,
   "metadata": {
    "id": "ugTzJ0HhFRGJ"
   },
   "outputs": [
    {
     "name": "stdout",
     "output_type": "stream",
     "text": [
      "     True rating: 8.0\n",
      "Predicted rating: 7.612858270920231\n"
     ]
    }
   ],
   "source": [
    "def compare_pred_vs_true(user_id, item_id):\n",
    "    print('     True rating:', PMF_model.R[PMF_model.user_to_row[user_id], PMF_model.item_to_column[item_id]])\n",
    "    print('Predicted rating:', PMF_model.predict_one(user_id=user_id, item_id=item_id))\n",
    "\n",
    "compare_pred_vs_true(user_id=1, item_id=1)"
   ]
  },
  {
   "cell_type": "markdown",
   "metadata": {},
   "source": [
    "We can copmare predictions for some random users ratings:"
   ]
  },
  {
   "cell_type": "code",
   "execution_count": 12,
   "metadata": {
    "scrolled": false
   },
   "outputs": [
    {
     "name": "stdout",
     "output_type": "stream",
     "text": [
      "     True rating: 10.0\n",
      "Predicted rating: 10.0\n",
      "\n",
      "\n",
      "     True rating: 9.0\n",
      "Predicted rating: 8.227362600349798\n",
      "\n",
      "\n",
      "     True rating: 2.0\n",
      "Predicted rating: 2.032618706589141\n",
      "\n",
      "\n",
      "     True rating: 10.0\n",
      "Predicted rating: 9.912388552967919\n",
      "\n",
      "\n",
      "     True rating: 10.0\n",
      "Predicted rating: 9.88467252141719\n",
      "\n",
      "\n",
      "     True rating: 4.0\n",
      "Predicted rating: 4.316526464483501\n",
      "\n",
      "\n",
      "     True rating: 6.0\n",
      "Predicted rating: 5.924530344751906\n",
      "\n",
      "\n",
      "     True rating: 10.0\n",
      "Predicted rating: 9.889626359269368\n",
      "\n",
      "\n",
      "     True rating: 7.0\n",
      "Predicted rating: 6.980524520014333\n",
      "\n",
      "\n",
      "     True rating: 4.0\n",
      "Predicted rating: 3.812907609892198\n",
      "\n",
      "\n"
     ]
    }
   ],
   "source": [
    "# Compare some predictions with true ratings\n",
    "for i in range(10):\n",
    "    row_sample = PMF_model.df.sample(1)\n",
    "    user_id = row_sample['userId'].values[0]\n",
    "    item_id = row_sample['movieId'].values[0]\n",
    "    compare_pred_vs_true(user_id=user_id, item_id=item_id)\n",
    "    print('\\n')"
   ]
  },
  {
   "cell_type": "markdown",
   "metadata": {},
   "source": [
    "We can also get information about predictions only for those movies that have not been rated by a given user.\n",
    "\n",
    "We can treat it as a mask that will allow us to decide what movies, which he has not seen yet, to propose to each user.\n",
    "\n",
    "Values 0 in this matrix mean that the user has already rated the movie. Other values show the predicted rating for the user-video pair."
   ]
  },
  {
   "cell_type": "code",
   "execution_count": 13,
   "metadata": {},
   "outputs": [
    {
     "name": "stdout",
     "output_type": "stream",
     "text": [
      "[[0.         9.7008641  0.         ... 1.         1.         1.        ]\n",
      " [7.36409559 6.60971559 8.73170649 ... 1.         1.         1.        ]\n",
      " [3.74121054 1.         1.44741694 ... 1.49265373 1.49265373 1.        ]\n",
      " ...\n",
      " [0.         0.         0.         ... 1.         1.         1.        ]\n",
      " [0.         3.50469717 4.25813621 ... 1.         1.         1.        ]\n",
      " [0.         3.99996115 1.         ... 1.         1.         2.15478004]]\n"
     ]
    }
   ],
   "source": [
    "print(PMF_model.get_masked_preds())"
   ]
  },
  {
   "cell_type": "markdown",
   "metadata": {},
   "source": [
    "Now, let's put our model into practice!\n",
    "\n",
    "Let's try to find out the title of the movie that, according to our model, user xxx will like the most.<br>\n",
    "To do this we have to read movies metadata."
   ]
  },
  {
   "cell_type": "code",
   "execution_count": 14,
   "metadata": {},
   "outputs": [
    {
     "data": {
      "text/html": [
       "<div>\n",
       "<style scoped>\n",
       "    .dataframe tbody tr th:only-of-type {\n",
       "        vertical-align: middle;\n",
       "    }\n",
       "\n",
       "    .dataframe tbody tr th {\n",
       "        vertical-align: top;\n",
       "    }\n",
       "\n",
       "    .dataframe thead th {\n",
       "        text-align: right;\n",
       "    }\n",
       "</style>\n",
       "<table border=\"1\" class=\"dataframe\">\n",
       "  <thead>\n",
       "    <tr style=\"text-align: right;\">\n",
       "      <th></th>\n",
       "      <th>movieId</th>\n",
       "      <th>title</th>\n",
       "      <th>genres</th>\n",
       "    </tr>\n",
       "  </thead>\n",
       "  <tbody>\n",
       "    <tr>\n",
       "      <th>0</th>\n",
       "      <td>1</td>\n",
       "      <td>Toy Story (1995)</td>\n",
       "      <td>Adventure|Animation|Children|Comedy|Fantasy</td>\n",
       "    </tr>\n",
       "    <tr>\n",
       "      <th>1</th>\n",
       "      <td>2</td>\n",
       "      <td>Jumanji (1995)</td>\n",
       "      <td>Adventure|Children|Fantasy</td>\n",
       "    </tr>\n",
       "    <tr>\n",
       "      <th>2</th>\n",
       "      <td>3</td>\n",
       "      <td>Grumpier Old Men (1995)</td>\n",
       "      <td>Comedy|Romance</td>\n",
       "    </tr>\n",
       "    <tr>\n",
       "      <th>3</th>\n",
       "      <td>4</td>\n",
       "      <td>Waiting to Exhale (1995)</td>\n",
       "      <td>Comedy|Drama|Romance</td>\n",
       "    </tr>\n",
       "    <tr>\n",
       "      <th>4</th>\n",
       "      <td>5</td>\n",
       "      <td>Father of the Bride Part II (1995)</td>\n",
       "      <td>Comedy</td>\n",
       "    </tr>\n",
       "  </tbody>\n",
       "</table>\n",
       "</div>"
      ],
      "text/plain": [
       "   movieId                               title  \\\n",
       "0        1                    Toy Story (1995)   \n",
       "1        2                      Jumanji (1995)   \n",
       "2        3             Grumpier Old Men (1995)   \n",
       "3        4            Waiting to Exhale (1995)   \n",
       "4        5  Father of the Bride Part II (1995)   \n",
       "\n",
       "                                        genres  \n",
       "0  Adventure|Animation|Children|Comedy|Fantasy  \n",
       "1                   Adventure|Children|Fantasy  \n",
       "2                               Comedy|Romance  \n",
       "3                         Comedy|Drama|Romance  \n",
       "4                                       Comedy  "
      ]
     },
     "execution_count": 14,
     "metadata": {},
     "output_type": "execute_result"
    }
   ],
   "source": [
    "movies_metadata = pd.read_csv('data/movies.csv')\n",
    "movies_metadata.head()"
   ]
  },
  {
   "cell_type": "markdown",
   "metadata": {},
   "source": [
    "Take a look on user with `userId=435`<br>\n",
    "Which row corresponds to this user?"
   ]
  },
  {
   "cell_type": "code",
   "execution_count": 15,
   "metadata": {},
   "outputs": [
    {
     "name": "stdout",
     "output_type": "stream",
     "text": [
      "434\n"
     ]
    }
   ],
   "source": [
    "test_user_id = 435\n",
    "print(PMF_model.user_to_row[test_user_id])"
   ]
  },
  {
   "cell_type": "markdown",
   "metadata": {},
   "source": [
    "Now we can check the column number with the highest predicted score and how high is that score."
   ]
  },
  {
   "cell_type": "code",
   "execution_count": 16,
   "metadata": {},
   "outputs": [
    {
     "name": "stdout",
     "output_type": "stream",
     "text": [
      "92\n"
     ]
    }
   ],
   "source": [
    "print(PMF_model.get_masked_preds()[PMF_model.user_to_row[test_user_id]].argmax())"
   ]
  },
  {
   "cell_type": "code",
   "execution_count": 18,
   "metadata": {},
   "outputs": [
    {
     "name": "stdout",
     "output_type": "stream",
     "text": [
      "Highest score: 10.0\n"
     ]
    }
   ],
   "source": [
    "print('Highest score:', PMF_model.get_masked_preds()[434][92])"
   ]
  },
  {
   "cell_type": "markdown",
   "metadata": {},
   "source": [
    "What is the ID of film in column 702?"
   ]
  },
  {
   "cell_type": "code",
   "execution_count": 19,
   "metadata": {},
   "outputs": [
    {
     "name": "stdout",
     "output_type": "stream",
     "text": [
      "104\n"
     ]
    }
   ],
   "source": [
    "print(PMF_model.transpose_dict('item')[92])"
   ]
  },
  {
   "cell_type": "markdown",
   "metadata": {},
   "source": [
    "What movie is hidden under the `movieId=104`?"
   ]
  },
  {
   "cell_type": "code",
   "execution_count": 20,
   "metadata": {},
   "outputs": [
    {
     "data": {
      "text/html": [
       "<div>\n",
       "<style scoped>\n",
       "    .dataframe tbody tr th:only-of-type {\n",
       "        vertical-align: middle;\n",
       "    }\n",
       "\n",
       "    .dataframe tbody tr th {\n",
       "        vertical-align: top;\n",
       "    }\n",
       "\n",
       "    .dataframe thead th {\n",
       "        text-align: right;\n",
       "    }\n",
       "</style>\n",
       "<table border=\"1\" class=\"dataframe\">\n",
       "  <thead>\n",
       "    <tr style=\"text-align: right;\">\n",
       "      <th></th>\n",
       "      <th>movieId</th>\n",
       "      <th>title</th>\n",
       "      <th>genres</th>\n",
       "    </tr>\n",
       "  </thead>\n",
       "  <tbody>\n",
       "    <tr>\n",
       "      <th>92</th>\n",
       "      <td>104</td>\n",
       "      <td>Happy Gilmore (1996)</td>\n",
       "      <td>Comedy</td>\n",
       "    </tr>\n",
       "  </tbody>\n",
       "</table>\n",
       "</div>"
      ],
      "text/plain": [
       "    movieId                 title  genres\n",
       "92      104  Happy Gilmore (1996)  Comedy"
      ]
     },
     "execution_count": 20,
     "metadata": {},
     "output_type": "execute_result"
    }
   ],
   "source": [
    "movies_metadata[movies_metadata.movieId == 104]"
   ]
  },
  {
   "cell_type": "code",
   "execution_count": null,
   "metadata": {},
   "outputs": [],
   "source": []
  }
 ],
 "metadata": {
  "colab": {
   "authorship_tag": "ABX9TyOUUR69HUBJzuXsSZkwenJH",
   "provenance": []
  },
  "kernelspec": {
   "display_name": "Python 3 (ipykernel)",
   "language": "python",
   "name": "python3"
  },
  "language_info": {
   "codemirror_mode": {
    "name": "ipython",
    "version": 3
   },
   "file_extension": ".py",
   "mimetype": "text/x-python",
   "name": "python",
   "nbconvert_exporter": "python",
   "pygments_lexer": "ipython3",
   "version": "3.9.7"
  }
 },
 "nbformat": 4,
 "nbformat_minor": 1
}
